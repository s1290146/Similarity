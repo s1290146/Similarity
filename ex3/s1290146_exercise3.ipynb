{
 "cells": [
  {
   "cell_type": "code",
   "execution_count": 6,
   "id": "2e5e56a3-3f9f-4aae-83ba-8d2e51429293",
   "metadata": {},
   "outputs": [
    {
     "name": "stdout",
     "output_type": "stream",
     "text": [
      "The Jaccard coefficient between the strings 'Data Science' and 'Machine Learning' is 0.42857142857142855\n",
      "The Overlap coefficient between the strings 'Data Science' and 'Machine Learning' is 0.5\n",
      "The Hamming distance between the strings 'Data Science' and 'Machine Learning' is 11\n"
     ]
    }
   ],
   "source": [
    "from alg.j import j\n",
    "from alg.h import h\n",
    "from alg.o import o\n",
    "\n",
    "def main():\n",
    "        x = \"Data Science\"\n",
    "        y = \"Machine Learning\"\n",
    "        ja = j.jaccard_similarity(x,y)\n",
    "        ha = h.hamming_distance(x,y)\n",
    "        ov = o.overlap_coefficient(x,y)\n",
    "        \n",
    "        print(\"The Jaccard coefficient between the strings 'Data Science' and 'Machine Learning' is \"+str(ja))\n",
    "        print(\"The Overlap coefficient between the strings 'Data Science' and 'Machine Learning' is \"+str(ov))\n",
    "        print(\"The Hamming distance between the strings 'Data Science' and 'Machine Learning' is \"+str(ha))\n",
    "\n",
    "if __name__ == \"__main__\":\n",
    "        main()"
   ]
  },
  {
   "cell_type": "code",
   "execution_count": null,
   "id": "c437a61b-853f-4964-b60c-b9417749a38c",
   "metadata": {},
   "outputs": [],
   "source": []
  },
  {
   "cell_type": "code",
   "execution_count": null,
   "id": "02d40d49-a31d-4f02-92ad-cefd0d4ec756",
   "metadata": {},
   "outputs": [],
   "source": []
  }
 ],
 "metadata": {
  "kernelspec": {
   "display_name": "Python 3 (ipykernel)",
   "language": "python",
   "name": "python3"
  },
  "language_info": {
   "codemirror_mode": {
    "name": "ipython",
    "version": 3
   },
   "file_extension": ".py",
   "mimetype": "text/x-python",
   "name": "python",
   "nbconvert_exporter": "python",
   "pygments_lexer": "ipython3",
   "version": "3.10.4"
  }
 },
 "nbformat": 4,
 "nbformat_minor": 5
}
